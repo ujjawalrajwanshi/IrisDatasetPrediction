{
  "nbformat": 4,
  "nbformat_minor": 0,
  "metadata": {
    "colab": {
      "name": "IrisDatasetPrediction.ipynb",
      "provenance": [],
      "collapsed_sections": []
    },
    "kernelspec": {
      "name": "python3",
      "display_name": "Python 3"
    },
    "language_info": {
      "name": "python"
    }
  },
  "cells": [
    {
      "cell_type": "code",
      "metadata": {
        "id": "AI9sA2fSqNJz"
      },
      "source": [
        "import tensorflow as tf\n",
        "import numpy as np\n",
        "import pandas as pd\n",
        "import matplotlib.pyplot as plt\n",
        "import os\n",
        "import seaborn as sn\n",
        "import sklearn\n",
        "from sklearn.linear_model import LogisticRegression\n",
        "from sklearn.model_selection import train_test_split"
      ],
      "execution_count": 54,
      "outputs": []
    },
    {
      "cell_type": "code",
      "metadata": {
        "id": "f-jXjPgoqR0k",
        "colab": {
          "base_uri": "https://localhost:8080/"
        },
        "outputId": "bf184bad-8265-4b81-da34-b8867c577727"
      },
      "source": [
        "pdata = pd.read_csv(\"iris_training.csv\")\n",
        "column_names = ['sepal_length', 'sepal_width', 'petal_length', 'petal_width', 'species']\n",
        "pdata.columns  = column_names\n",
        "pdata.shape\n"
      ],
      "execution_count": 55,
      "outputs": [
        {
          "output_type": "execute_result",
          "data": {
            "text/plain": [
              "(120, 5)"
            ]
          },
          "metadata": {
            "tags": []
          },
          "execution_count": 55
        }
      ]
    },
    {
      "cell_type": "code",
      "metadata": {
        "colab": {
          "base_uri": "https://localhost:8080/",
          "height": 297
        },
        "id": "fszowEbRNus_",
        "outputId": "2cd1ff49-435b-482b-c1cd-0a72a70b15bd"
      },
      "source": [
        "#for the representation according to the labels the pandas has to use the group by unlike the tensorflow who automaticall group by according to the labels or we can say the output\n",
        "# for name, group in groups:\n",
        "#     plt.scatter(group[\"sepal_length\"],group[\"sepal_width\"],label=name)\n",
        "\n",
        "plt.scatter(pdata[\"petal_length\"],pdata[\"sepal_length\"],c=pdata[\"species\"])#for the distribution of the color the array of same size as equivalent to the number of input parameters is required else you have to use group by to roup by data for better ecalution\n",
        "plt.xlabel(\"petal_length\")\n",
        "plt.ylabel(\"sepal_length\")\n",
        "plt.legend()\n",
        "plt.show()"
      ],
      "execution_count": 56,
      "outputs": [
        {
          "output_type": "stream",
          "text": [
            "No handles with labels found to put in legend.\n"
          ],
          "name": "stderr"
        },
        {
          "output_type": "display_data",
          "data": {
            "image/png": "[encoded data removed]",
            "text/plain": [
              "<Figure size 432x288 with 1 Axes>"
            ]
          },
          "metadata": {
            "tags": [],
            "needs_background": "light"
          }
        }
      ]
    },
    {
      "cell_type": "code",
      "metadata": {
        "id": "zJp0gC3jv9CD"
      },
      "source": [
        "features = pdata.iloc[:,:-1]\n",
        "target = pdata.iloc[:,-1:]"
      ],
      "execution_count": 57,
      "outputs": []
    },
    {
      "cell_type": "code",
      "metadata": {
        "id": "xLdqXSPZykVj"
      },
      "source": [
        "x_train,x_test,y_train,y_test = train_test_split(features,target,test_size = 0.2)"
      ],
      "execution_count": 59,
      "outputs": []
    },
    {
      "cell_type": "code",
      "metadata": {
        "id": "WwSuqJOP2Gtt"
      },
      "source": [
        "model = LogisticRegression()"
      ],
      "execution_count": 60,
      "outputs": []
    },
    {
      "cell_type": "code",
      "metadata": {
        "colab": {
          "base_uri": "https://localhost:8080/"
        },
        "id": "AYWYFf9a446i",
        "outputId": "97c6236a-95a6-4a6f-d4c3-e95747884caa"
      },
      "source": [
        "model.fit(x_train,y_train)"
      ],
      "execution_count": 61,
      "outputs": [
        {
          "output_type": "stream",
          "text": [
            "/usr/local/lib/python3.7/dist-packages/sklearn/utils/validation.py:760: DataConversionWarning: A column-vector y was passed when a 1d array was expected. Please change the shape of y to (n_samples, ), for example using ravel().\n",
            "  y = column_or_1d(y, warn=True)\n"
          ],
          "name": "stderr"
        },
        {
          "output_type": "execute_result",
          "data": {
            "text/plain": [
              "LogisticRegression(C=1.0, class_weight=None, dual=False, fit_intercept=True,\n",
              "                   intercept_scaling=1, l1_ratio=None, max_iter=100,\n",
              "                   multi_class='auto', n_jobs=None, penalty='l2',\n",
              "                   random_state=None, solver='lbfgs', tol=0.0001, verbose=0,\n",
              "                   warm_start=False)"
            ]
          },
          "metadata": {
            "tags": []
          },
          "execution_count": 61
        }
      ]
    },
    {
      "cell_type": "code",
      "metadata": {
        "colab": {
          "base_uri": "https://localhost:8080/"
        },
        "id": "l05tJGbI47Hj",
        "outputId": "8611c79e-c7f2-4364-81cc-c2bb49d1d141"
      },
      "source": [
        "predictions = model.predict(x_test)\n",
        "print(predictions)"
      ],
      "execution_count": 62,
      "outputs": [
        {
          "output_type": "stream",
          "text": [
            "[2 2 0 0 0 2 2 2 2 1 2 0 2 2 2 1 2 0 1 0 1 0 1 1]\n"
          ],
          "name": "stdout"
        }
      ]
    },
    {
      "cell_type": "code",
      "metadata": {
        "id": "7GOL9uCW5DJt"
      },
      "source": [
        ""
      ],
      "execution_count": null,
      "outputs": []
    }
  ]
}